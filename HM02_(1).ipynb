{
  "nbformat": 4,
  "nbformat_minor": 0,
  "metadata": {
    "colab": {
      "name": "HM02 (1).ipynb",
      "provenance": [],
      "collapsed_sections": []
    },
    "kernelspec": {
      "name": "python3",
      "display_name": "Python 3"
    },
    "language_info": {
      "name": "python"
    }
  },
  "cells": [
    {
      "cell_type": "markdown",
      "metadata": {
        "id": "KhA2dYiH9-Nc"
      },
      "source": [
        "Q1: If you have the following dictionry:  d = {'Id':['name' ,' age'], 10: ['Ahmed',  20] , 20: ['Ali', 35], 30:['Khaled', 40], 40:['mohmed', 35]}\n",
        "Where, the key represents the ‘id’, the first element of the list represents the name and the second item represents the ‘age’. Write a Python code to write the elements of this dictionary to a file. The output file should look like this\n",
        "\n",
        "\n",
        "Hint: you can use ‘str’ to convert integer to strin"
      ]
    },
    {
      "cell_type": "code",
      "metadata": {
        "id": "-Wv0G-CqdX5s"
      },
      "source": [
        "with open(\"Dictionary\", 'w') as f:\n",
        "  d = {'Id':['name' ,' age'], 10: ['Ahmed',  20] , 20: ['Ali', 35], 30:['Khaled', 40], 40:['mohmed', 35]}\n",
        "  for key, value in d.items():\n",
        "    name = value[0]\n",
        "    age = str(value[1])\n",
        "    f.write(\"{} {} {} \\n\".format(key,name, age))\n"
      ],
      "execution_count": null,
      "outputs": []
    },
    {
      "cell_type": "code",
      "metadata": {
        "colab": {
          "base_uri": "https://localhost:8080/"
        },
        "id": "NgBW9x5g-iZ8",
        "outputId": "8814b647-d1f3-493a-fe0a-4b73c0a29121"
      },
      "source": [
        "with open('Dictionary', 'r') as f:\n",
        "   print(f.read())"
      ],
      "execution_count": null,
      "outputs": [
        {
          "output_type": "stream",
          "name": "stdout",
          "text": [
            "Id name  age \n",
            "10 Ahmed 20 \n",
            "20 Ali 35 \n",
            "30 Khaled 40 \n",
            "40 mohmed 35 \n",
            "\n"
          ]
        }
      ]
    },
    {
      "cell_type": "markdown",
      "metadata": {
        "id": "SyRbA6oRURR7"
      },
      "source": [
        "Q2: if you have the following data\n",
        "\n",
        "Where, the first column is the student id, the second one is the name, the third one is the level and the rest of the numbers are marks (a variable number of marks).  \n",
        "1. 1-\tCreate a file called students to store the data. (do it manually)\n",
        "2. 2-\tCreate a class called students that receives the student id, name and level. This class has two methods; the first one to add one mark to the list of student marks (called add_mark) and the other one to return student’s information (called dump)\n",
        "3. 3-\tWrite a function called ‘create_student’. This function will receive a file name and an id, then it will read the file and create one student from the corresponding row and add his marks.\n"
      ]
    },
    {
      "cell_type": "code",
      "metadata": {
        "id": "Tv1R7oXHKB1e"
      },
      "source": [
        "f = open(\"/content/Student.txt\", \"a+\")\n",
        "f.close()"
      ],
      "execution_count": 1,
      "outputs": []
    },
    {
      "cell_type": "code",
      "metadata": {
        "colab": {
          "base_uri": "https://localhost:8080/"
        },
        "id": "dH8Bltpebr2L",
        "outputId": "a77f72fc-1dd1-42ba-e8eb-e7304aa6bfd9"
      },
      "source": [
        "class Student:\n",
        "    def __init__(self, Id, name, level, mark):\n",
        "        self.Id = Id\n",
        "        self.name = name\n",
        "        self.level = level\n",
        "        self.marks = mark\n",
        "        self.marksList = []\n",
        "    def add_mark(self, marksList):\n",
        "        self.marksList.append(marksList)\n",
        "        return f'{marksList} added !'\n",
        "        f.close()\n",
        "    def dump(self):\n",
        "        print(self.name, self.level, self.marksList)\n",
        "    def create_student(self, file):\n",
        "        f = open(file, 'a')\n",
        "        f.write(f'{self.Id}, {self.name}, {self.level}, {self.marksList}\\n')\n",
        "        f.close()\n",
        "st = Student(500, 'Nouf', 3, 99)\n",
        "st.add_mark([90, 89, 90])\n",
        "st.dump()\n",
        "st.create_student(r'/content/sample_data/Student.txt')"
      ],
      "execution_count": 2,
      "outputs": [
        {
          "output_type": "stream",
          "name": "stdout",
          "text": [
            "Nouf 3 [[90, 89, 90]]\n"
          ]
        }
      ]
    },
    {
      "cell_type": "code",
      "metadata": {
        "id": "JLUw_OAi_7El"
      },
      "source": [
        "Q3: Use NumPy and matplotlib to draw the value of the following two functions at 50 points uniformly distributed in [0, 10] and draw the intersection as a red cross mark."
      ],
      "execution_count": null,
      "outputs": []
    },
    {
      "cell_type": "code",
      "metadata": {
        "colab": {
          "base_uri": "https://localhost:8080/",
          "height": 282
        },
        "id": "wcvU00tND8hF",
        "outputId": "210cd571-358f-418c-ac7e-5a224a660f30"
      },
      "source": [
        "import numpy as np\n",
        "import matplotlib.pyplot as plt\n",
        "from matplotlib.pyplot import axis, figure, grid, plot, semilogy, subplot, title, xlabel, ylabel\n",
        "x = np.linspace(0, 10, 50)\n",
        "Y = x**3\n",
        "Y1 = 2*x**3\n",
        "fig = plt.figure()\n",
        "plt.plot(x, Y, 'ro')\n",
        "plt.plot(x, Y1,'bo')\n"
      ],
      "execution_count": null,
      "outputs": [
        {
          "output_type": "execute_result",
          "data": {
            "text/plain": [
              "[<matplotlib.lines.Line2D at 0x7f7a1c16ba50>]"
            ]
          },
          "metadata": {},
          "execution_count": 3
        },
        {
          "output_type": "display_data",
          "data": {
            "image/png": "[encoded data removed]",
            "text/plain": [
              "<Figure size 432x288 with 1 Axes>"
            ]
          },
          "metadata": {
            "needs_background": "light"
          }
        }
      ]
    },
    {
      "cell_type": "code",
      "metadata": {
        "id": "S10mZRhsHfvc"
      },
      "source": [
        ""
      ],
      "execution_count": null,
      "outputs": []
    },
    {
      "cell_type": "markdown",
      "metadata": {
        "id": "ofGLPFfA6cee"
      },
      "source": [
        "Q4: Write a function to normalize the columns of an array by subtracting the mean and divide by the standard deviation of that column"
      ]
    },
    {
      "cell_type": "code",
      "metadata": {
        "colab": {
          "base_uri": "https://localhost:8080/"
        },
        "id": "Ronh-Q5a-zY2",
        "outputId": "3be2c211-6168-4fa3-fb68-c3f7f1485999"
      },
      "source": [
        "import numpy as np\n",
        " \n",
        "df = np.array([[200,-4,90,13.9,5],\n",
        "                               [-90,20,300.7,30,-200],[20,30,23,45,19],\n",
        "                               [25,45,34,37,12]])\n",
        "print(\"this is the orginal value\\n\", df)\n",
        "B = np.mean(df, 0)\n",
        "c = np.std(df, 0)\n",
        "\n",
        "df1 = (df - B)/ c\n",
        "print('this is the updated value\\n', df1)"
      ],
      "execution_count": null,
      "outputs": [
        {
          "output_type": "stream",
          "name": "stdout",
          "text": [
            "this is the orginal value\n",
            " [[ 200.    -4.    90.    13.9    5. ]\n",
            " [ -90.    20.   300.7   30.  -200. ]\n",
            " [  20.    30.    23.    45.    19. ]\n",
            " [  25.    45.    34.    37.    12. ]]\n",
            "this is the updated value\n",
            " [[ 1.55309005 -1.50080312 -0.19591387 -1.53479183  0.50036962]\n",
            " [-1.24006415 -0.15428817  1.68682511 -0.12880899 -1.72953847]\n",
            " [-0.18059187  0.40675972 -0.79460163  1.18111291  0.65265603]\n",
            " [-0.13243404  1.24833156 -0.69630961  0.4824879   0.57651282]]\n"
          ]
        }
      ]
    },
    {
      "cell_type": "markdown",
      "metadata": {
        "id": "eIN1p4FGx7ZG"
      },
      "source": [
        "Q5: write function to replace all  the value that below the avarge value with mean?"
      ]
    },
    {
      "cell_type": "code",
      "metadata": {
        "colab": {
          "base_uri": "https://localhost:8080/"
        },
        "id": "ctDbA0im2ZHi",
        "outputId": "b747a2b7-befa-4f0b-f0c5-384d26a1bd96"
      },
      "source": [
        "import numpy as np\n",
        "matrixe1 = np.array([[1,4,9,2,2,5,1,1,9,1],[2,4,3,5,2,2,1,2,1,1],\n",
        "              [3,4,-2,-3,4,2,3,5,1,2],[2,3,-3,-5,3,3,7,8,-4,1],[3,4,2,3,4,2,3,7,3,2],\n",
        "             [1,4,9,3,4,3,3,2,9,4],[2,1,3,5,2,2,3,2,3,3],\n",
        "             [3,6,8,3,7,2,3,5,3,2],[5,-2,-3,5,2,3,7,8,4,3],[4,-2,-3,1,1,2,3,7,3,5]])\n",
        "A = matrixe1.reshape(10,10)\n",
        "B = A.mean()\n",
        "A[A<B] = B\n",
        "A"
      ],
      "execution_count": null,
      "outputs": [
        {
          "output_type": "execute_result",
          "data": {
            "text/plain": [
              "array([[2, 4, 9, 2, 2, 5, 2, 2, 9, 2],\n",
              "       [2, 4, 3, 5, 2, 2, 2, 2, 2, 2],\n",
              "       [3, 4, 2, 2, 4, 2, 3, 5, 2, 2],\n",
              "       [2, 3, 2, 2, 3, 3, 7, 8, 2, 2],\n",
              "       [3, 4, 2, 3, 4, 2, 3, 7, 3, 2],\n",
              "       [2, 4, 9, 3, 4, 3, 3, 2, 9, 4],\n",
              "       [2, 2, 3, 5, 2, 2, 3, 2, 3, 3],\n",
              "       [3, 6, 8, 3, 7, 2, 3, 5, 3, 2],\n",
              "       [5, 2, 2, 5, 2, 3, 7, 8, 4, 3],\n",
              "       [4, 2, 2, 2, 2, 2, 3, 7, 3, 5]])"
            ]
          },
          "metadata": {},
          "execution_count": 5
        }
      ]
    },
    {
      "cell_type": "markdown",
      "metadata": {
        "id": "jQMbPYTCvt7Q"
      },
      "source": [
        "Q6: Write a function to sort array according to their sum!"
      ]
    },
    {
      "cell_type": "code",
      "metadata": {
        "colab": {
          "base_uri": "https://localhost:8080/"
        },
        "id": "x0ck1mvKwBAo",
        "outputId": "1b4ce31b-4600-4297-8d59-aace992ce421"
      },
      "source": [
        "def sum_sort(row):\n",
        "  return sum(row)\n",
        "\n",
        "test_list = [[4,8], [67, 89, 4], [88, 9, 6],[88, 9, 6], [1],[109, 66, 0]]\n",
        "print('the orignal list is: {}'.format(test_list))\n",
        "test_list.sort(key = sum_sort )\n",
        "print('the update list after sort is: {}'.format(test_list))"
      ],
      "execution_count": null,
      "outputs": [
        {
          "output_type": "stream",
          "name": "stdout",
          "text": [
            "the orignal list is: [[4, 8], [67, 89, 4], [88, 9, 6], [88, 9, 6], [1], [109, 66, 0]]\n",
            "the update list after sort is: [[1], [4, 8], [88, 9, 6], [88, 9, 6], [67, 89, 4], [109, 66, 0]]\n"
          ]
        }
      ]
    }
  ]
}